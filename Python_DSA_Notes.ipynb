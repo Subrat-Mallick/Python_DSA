{
 "cells": [
  {
   "cell_type": "markdown",
   "metadata": {},
   "source": [
    "# Big O (is a way of comparing two sets of code.)\n",
    "\n",
    "Let's say we have a stopwatch and we run code one and we start the stopwatch and it runs for 15 seconds\n",
    "and we reset the stopwatch and we run code two and code two.Runs a lot longer than 15 seconds.It runs for a full minute.\n",
    "\n",
    "Based on this, you would say that code one is better than code two.You can measure it.This is called time complexity.\n",
    "\n",
    "The thing about time complexity that is interesting is that it is not measured in time.\n",
    "Because if you took the same code and ran it on a computer that runs twice as fast, it would complete twice as fast.\n",
    "\n",
    "It doesn't make the code any better. It just means the computer is better.\n",
    "\n",
    "So it is measured in the number of operations that it takes to complete something.\n",
    "And we'll look at examples of that as we go along here.\n",
    "\n",
    "In addition to time complexity, we measure space complexity.\n",
    "\n",
    "So let's say that code one.\n",
    "While it runs very fast, comparatively, let's say it takes up a lot of memory when it runs.\n",
    "\n",
    "And maybe code two.\n",
    "\n",
    "Even though that takes much longer to finish, maybe it takes up less memory.\n",
    "\n",
    "If preserving memory space is your most important priority and you don't mind having some extra time.\n",
    "Complexity.\n",
    "\n",
    "Maybe code two is better.\n",
    "So when you get into an interview, there's a good chance that you'll be asked questions about time\n",
    "\n",
    "complexity, and then they'll say, Hey, well, what if space complexity is our main priority?\n",
    "How would you approach it?\n",
    "\n",
    "Then you have to understand both concepts and be able to address that in the job interview.\n",
    "But for the most part in this class, we will be dealing. With time complexity."
   ]
  },
  {
   "cell_type": "markdown",
   "metadata": {},
   "source": []
  },
  {
   "cell_type": "markdown",
   "metadata": {},
   "source": [
    "#### So when you're dealing with time, complexity and space complexity, there are three Greek letters that\n",
    "\n",
    "### you will see, and they are Omega, Theta and Omicron.\n",
    "\n",
    "# So when someone talks about the best case scenario for running a piece of code, that is Omega,\n",
    "\n",
    "# The average case is theta.\n",
    "\n",
    "# And worst case is Omicron or O."
   ]
  },
  {
   "cell_type": "markdown",
   "metadata": {},
   "source": []
  },
  {
   "cell_type": "code",
   "execution_count": 6,
   "metadata": {},
   "outputs": [
    {
     "name": "stdout",
     "output_type": "stream",
     "text": [
      "0\n",
      "1\n",
      "2\n",
      "3\n",
      "4\n",
      "5\n",
      "6\n",
      "7\n",
      "8\n",
      "9\n"
     ]
    }
   ],
   "source": [
    "def print_items(n):\n",
    "    for i in range(n):\n",
    "        print(i)\n",
    "print_items(10)"
   ]
  },
  {
   "cell_type": "markdown",
   "metadata": {},
   "source": [
    "# o(n) \n",
    "So there were ten items that were printed to the screen.\n",
    "\n",
    "So let's flip back.\n",
    "\n",
    "So this is an example of something that is O of n we passed it the number n.\n",
    "\n",
    "And then it ran n times, there we're n operations.\n",
    "\n",
    "So whatever n was that was the number of operations.\n",
    "\n",
    "So that's O of n.\n",
    "\n",
    "#### So on this graph, on this bottom axis that's n and on the other axis, this is the number of operations.\n",
    "\n",
    "#### So O of n is always going to be a straight line.\n",
    "\n",
    "#### It is what is called proportional.\n",
    "\n",
    "#### So if you hear the word proportional when it comes to Big O, that is going to be O of n, So we'll\n",
    "\n",
    "#### be adding to this graph so we can compare one to another."
   ]
  },
  {
   "cell_type": "markdown",
   "metadata": {},
   "source": []
  },
  {
   "cell_type": "markdown",
   "metadata": {},
   "source": [
    "# DROP CONSTANTS\n",
    "\n",
    "Okay, so there is our function with two for loops and we're going to run this with the number ten.\n",
    "And you can see our output there.\n",
    "\n",
    "It goes from zero through nine here and another zero through nine here.\n",
    "It's just the exact same thing, running twice.\n",
    "\n",
    "So we pass this the number ten here, and it printed out 20 items.\n",
    "So let's flip back over.\n",
    "\n",
    "So this ran n plus n times or 2n times.\n",
    "Now, you might think that we're going to write this as O of 2n, but we can simplify this.\n",
    "\n",
    "### By dropping the constant. So it doesn't matter if it's O of 2n 10n 100n.\n",
    "\n",
    "#### We drop the constant and we just write it as O of n.\n",
    "#### So our first rule for simplifying.\n",
    "#### Is drop constants."
   ]
  },
  {
   "cell_type": "code",
   "execution_count": 5,
   "metadata": {},
   "outputs": [
    {
     "name": "stdout",
     "output_type": "stream",
     "text": [
      "0\n",
      "1\n",
      "2\n",
      "3\n",
      "4\n",
      "5\n",
      "6\n",
      "7\n",
      "8\n",
      "9\n",
      "0\n",
      "1\n",
      "2\n",
      "3\n",
      "4\n",
      "5\n",
      "6\n",
      "7\n",
      "8\n",
      "9\n"
     ]
    }
   ],
   "source": [
    "def print_items(n):\n",
    "    for i in range(n):\n",
    "        print(i)\n",
    "    for j in range(n):\n",
    "        print(j)\n",
    "print_items(10)"
   ]
  },
  {
   "cell_type": "markdown",
   "metadata": {},
   "source": []
  },
  {
   "cell_type": "markdown",
   "metadata": {},
   "source": [
    "# O(n^2)\n",
    "And if we scroll to the top here, we have zero zero.\n",
    "So essentially from zero 0 to 99.\n",
    "\n",
    "So we had 100 items print out.\n",
    "Okay, so now let's flip back over.\n",
    "\n",
    "So when we printed this to the screen, we got n times n items printing out Or n squared.\n",
    "\n",
    "And that's where we get our O of n squared So let's take a look at this on the graph.\n",
    "So you can see that the line for O of n squared is much steeper than O of n, and this means it's a\n",
    "\n",
    "lot less efficient from a time complexity standpoint And that Is o of n squared.\n"
   ]
  },
  {
   "cell_type": "code",
   "execution_count": 7,
   "metadata": {},
   "outputs": [
    {
     "name": "stdout",
     "output_type": "stream",
     "text": [
      "0 0\n",
      "0 1\n",
      "0 2\n",
      "0 3\n",
      "0 4\n",
      "0 5\n",
      "0 6\n",
      "0 7\n",
      "0 8\n",
      "0 9\n",
      "1 0\n",
      "1 1\n",
      "1 2\n",
      "1 3\n",
      "1 4\n",
      "1 5\n",
      "1 6\n",
      "1 7\n",
      "1 8\n",
      "1 9\n",
      "2 0\n",
      "2 1\n",
      "2 2\n",
      "2 3\n",
      "2 4\n",
      "2 5\n",
      "2 6\n",
      "2 7\n",
      "2 8\n",
      "2 9\n",
      "3 0\n",
      "3 1\n",
      "3 2\n",
      "3 3\n",
      "3 4\n",
      "3 5\n",
      "3 6\n",
      "3 7\n",
      "3 8\n",
      "3 9\n",
      "4 0\n",
      "4 1\n",
      "4 2\n",
      "4 3\n",
      "4 4\n",
      "4 5\n",
      "4 6\n",
      "4 7\n",
      "4 8\n",
      "4 9\n",
      "5 0\n",
      "5 1\n",
      "5 2\n",
      "5 3\n",
      "5 4\n",
      "5 5\n",
      "5 6\n",
      "5 7\n",
      "5 8\n",
      "5 9\n",
      "6 0\n",
      "6 1\n",
      "6 2\n",
      "6 3\n",
      "6 4\n",
      "6 5\n",
      "6 6\n",
      "6 7\n",
      "6 8\n",
      "6 9\n",
      "7 0\n",
      "7 1\n",
      "7 2\n",
      "7 3\n",
      "7 4\n",
      "7 5\n",
      "7 6\n",
      "7 7\n",
      "7 8\n",
      "7 9\n",
      "8 0\n",
      "8 1\n",
      "8 2\n",
      "8 3\n",
      "8 4\n",
      "8 5\n",
      "8 6\n",
      "8 7\n",
      "8 8\n",
      "8 9\n",
      "9 0\n",
      "9 1\n",
      "9 2\n",
      "9 3\n",
      "9 4\n",
      "9 5\n",
      "9 6\n",
      "9 7\n",
      "9 8\n",
      "9 9\n"
     ]
    }
   ],
   "source": [
    "def print_items(n):\n",
    "    for i in range(n):\n",
    "        for j in range(n):\n",
    "            print(i,j)\n",
    "print_items(10)"
   ]
  },
  {
   "cell_type": "markdown",
   "metadata": {},
   "source": []
  },
  {
   "cell_type": "markdown",
   "metadata": {},
   "source": [
    "# DROP NON-DOMINANTS\n",
    "\n",
    "So these nested for loops ran O of n^2 times this, single for loop ran O of n times.\n",
    "\n",
    "And the total number of items that we output was O of n^2 plus O of n so we could write it like\n",
    "this O of n^2 plus n.\n",
    "\n",
    "But the main thing we're concerned about within is what happens when we start having n be a very large number.\n",
    "\n",
    "Even if we have a not so large number, like 100 in squared is going to be 10,000 plus n that single n that stands alone is only going to be 100.\n",
    "\n",
    "So as a percentage of the total number of operations, it is insignificant And as the number becomes 1000 or a million that stand alone n is a very small portion of the number of operations.\n",
    "\n",
    "### So in this equation, n^2 is the dominant term and that stand alone n is the non-dominant term.\n",
    "### So we just drop the n, we drop non-dominants.\n"
   ]
  },
  {
   "cell_type": "code",
   "execution_count": 9,
   "metadata": {},
   "outputs": [
    {
     "name": "stdout",
     "output_type": "stream",
     "text": [
      "0 0\n",
      "0 1\n",
      "0 2\n",
      "0 3\n",
      "0 4\n",
      "0 5\n",
      "0 6\n",
      "0 7\n",
      "0 8\n",
      "0 9\n",
      "1 0\n",
      "1 1\n",
      "1 2\n",
      "1 3\n",
      "1 4\n",
      "1 5\n",
      "1 6\n",
      "1 7\n",
      "1 8\n",
      "1 9\n",
      "2 0\n",
      "2 1\n",
      "2 2\n",
      "2 3\n",
      "2 4\n",
      "2 5\n",
      "2 6\n",
      "2 7\n",
      "2 8\n",
      "2 9\n",
      "3 0\n",
      "3 1\n",
      "3 2\n",
      "3 3\n",
      "3 4\n",
      "3 5\n",
      "3 6\n",
      "3 7\n",
      "3 8\n",
      "3 9\n",
      "4 0\n",
      "4 1\n",
      "4 2\n",
      "4 3\n",
      "4 4\n",
      "4 5\n",
      "4 6\n",
      "4 7\n",
      "4 8\n",
      "4 9\n",
      "5 0\n",
      "5 1\n",
      "5 2\n",
      "5 3\n",
      "5 4\n",
      "5 5\n",
      "5 6\n",
      "5 7\n",
      "5 8\n",
      "5 9\n",
      "6 0\n",
      "6 1\n",
      "6 2\n",
      "6 3\n",
      "6 4\n",
      "6 5\n",
      "6 6\n",
      "6 7\n",
      "6 8\n",
      "6 9\n",
      "7 0\n",
      "7 1\n",
      "7 2\n",
      "7 3\n",
      "7 4\n",
      "7 5\n",
      "7 6\n",
      "7 7\n",
      "7 8\n",
      "7 9\n",
      "8 0\n",
      "8 1\n",
      "8 2\n",
      "8 3\n",
      "8 4\n",
      "8 5\n",
      "8 6\n",
      "8 7\n",
      "8 8\n",
      "8 9\n",
      "9 0\n",
      "9 1\n",
      "9 2\n",
      "9 3\n",
      "9 4\n",
      "9 5\n",
      "9 6\n",
      "9 7\n",
      "9 8\n",
      "9 9\n",
      "0\n",
      "1\n",
      "2\n",
      "3\n",
      "4\n",
      "5\n",
      "6\n",
      "7\n",
      "8\n",
      "9\n"
     ]
    }
   ],
   "source": [
    "def print_items(n):\n",
    "    for i in range(n):\n",
    "        for j in range(n):\n",
    "            print(i,j)\n",
    "    for k in range(n):\n",
    "        print(k)\n",
    "print_items(10)"
   ]
  },
  {
   "cell_type": "markdown",
   "metadata": {},
   "source": []
  },
  {
   "cell_type": "markdown",
   "metadata": {},
   "source": [
    "# O(1)\n",
    "\n",
    "But in this case, the only operation is the addition So if n is 1, you have one operation.\n",
    "\n",
    "If it's a million, you still have one operation and that is O of one But what if you have two operations?\n",
    "\n",
    "Is that going to become O of two? Well, as you may have guessed, even in this situation, we're going to call it O of one.\n",
    "\n",
    "So O of one is also called constant time, meaning that as n increases, the number of operations is\n",
    "going to remain constant.\n",
    "\n",
    "### So even if we have two additions like we do here, the number of operations will remain constant as n increases.\n",
    "\n",
    "#### So let's take a look at this on the graph O of one is just that flat purple line across the bottom is just going to stay across the bottom because as n increases, we are not increasing the number of operations."
   ]
  },
  {
   "cell_type": "markdown",
   "metadata": {},
   "source": [
    "def add_items(n):\n",
    "    \n",
    "    return n + n + n \n",
    "    \n",
    "# O(1)"
   ]
  },
  {
   "cell_type": "markdown",
   "metadata": {},
   "source": []
  },
  {
   "cell_type": "markdown",
   "metadata": {},
   "source": [
    "# O(Log n)\n",
    "\n",
    "Let's we have a list of items [1,2,3,4,5,6,7,8]\n",
    "it will take three steps to find a number.\n",
    "\n",
    "### now we have 8 items in the list and 3 steps to fnd a number 2^3 = 8 --> log₂8 = 3\n",
    "2 to the what power equals to 8\n",
    "\n",
    "\n"
   ]
  },
  {
   "cell_type": "markdown",
   "metadata": {},
   "source": []
  },
  {
   "cell_type": "markdown",
   "metadata": {},
   "source": [
    "# DIFFERENT TERMS FOR INPUTS\n",
    "\n",
    "def print_items(a,b):\n",
    "    for i in range(a):\n",
    "        print(i)\n",
    "    for j in range(b):\n",
    "        print(j)\n",
    "        \n",
    "### in this case there is two parameters in for loop so the big O is O(a+b)\n",
    "\n",
    "def print_items(a,b):\n",
    "    for i in range(a):\n",
    "        for j in range(b):\n",
    "            print(i,j)\n",
    "            \n",
    "### in this case there is two parameters there is a nested for loop so the big O is O(a*b)\n"
   ]
  },
  {
   "cell_type": "markdown",
   "metadata": {},
   "source": []
  },
  {
   "cell_type": "markdown",
   "metadata": {},
   "source": [
    "- O(1): Constant time complexity\n",
    "- O(log n): Logarithmic time complexity (devide and conquer)\n",
    "- O(n): Linear time complexity\n",
    "- O(n log n): Linearithmic time complexity\n",
    "- O(n^2): Quadratic time complexity (Loop with in a Loop)\n",
    "- O(2^n): Exponential time complexity\n"
   ]
  },
  {
   "cell_type": "markdown",
   "metadata": {},
   "source": []
  },
  {
   "cell_type": "markdown",
   "metadata": {},
   "source": [
    "# BIG O OF LIST\n",
    "\n",
    "Access (Indexing): O(1)\n",
    "\n",
    "Append: O(1) or O(n)\n",
    "\n",
    "Insert (at a specific index): O(n) \n",
    "\n",
    "Delete (at a specific index): O(n)\n",
    "\n",
    "Search (by value): O(n\n",
    "\n",
    "Sort: O(n log n) or O(n^2)\n",
    "\n",
    "In (Membership Test): O(n)"
   ]
  },
  {
   "cell_type": "markdown",
   "metadata": {},
   "source": []
  },
  {
   "cell_type": "markdown",
   "metadata": {},
   "source": [
    "### https://www.bigocheatsheet.com/ "
   ]
  },
  {
   "cell_type": "markdown",
   "metadata": {},
   "source": [
    "# Linked List  (Constructor)"
   ]
  },
  {
   "cell_type": "code",
   "execution_count": 25,
   "metadata": {},
   "outputs": [
    {
     "name": "stdout",
     "output_type": "stream",
     "text": [
      "5\n"
     ]
    }
   ],
   "source": [
    "class Node:\n",
    "    def __init__(self, value):\n",
    "        self.value = value\n",
    "        self.next = None\n",
    "        \n",
    "        \n",
    "class Linkedlist:\n",
    "    def __init__(self,value):\n",
    "        new_node = Node(value)\n",
    "        self.head = new_node\n",
    "        self.tail = new_node\n",
    "        self.length = 1\n",
    "        \n",
    "my_linkedlist = Linkedlist(5)\n",
    "print(my_linkedlist.head.value)\n",
    "    "
   ]
  },
  {
   "cell_type": "markdown",
   "metadata": {},
   "source": [
    "# LL - Print List method "
   ]
  },
  {
   "cell_type": "code",
   "execution_count": 26,
   "metadata": {},
   "outputs": [],
   "source": [
    "def print_list(self):\n",
    "    temp = self.head\n",
    "    while temp is not None:\n",
    "        print(temp.value)\n",
    "        temp = temp.next"
   ]
  },
  {
   "cell_type": "markdown",
   "metadata": {},
   "source": [
    "# LL - Append method"
   ]
  },
  {
   "cell_type": "code",
   "execution_count": null,
   "metadata": {},
   "outputs": [],
   "source": [
    "def append(self, value):\n",
    "    new_node = Node(value)\n",
    "    if self.length == 0:\n",
    "        self.head = new_node\n",
    "        self.tail = new_node\n",
    "    else:\n",
    "        self.tail.next = new_node\n",
    "        self.tail = new_node\n",
    "    self.length += 1\n",
    "        "
   ]
  },
  {
   "cell_type": "markdown",
   "metadata": {},
   "source": [
    "# LL - Pop method"
   ]
  },
  {
   "cell_type": "code",
   "execution_count": 28,
   "metadata": {},
   "outputs": [],
   "source": [
    "def pop(self):\n",
    "    if self.length == 0:\n",
    "        return None\n",
    "    temp = self.head\n",
    "    pre = self.head\n",
    "    while(temp.next):\n",
    "        pre = temp\n",
    "        temp = temp.next\n",
    "    self.tail = pre\n",
    "    self.tail.next = None\n",
    "    self.length -= 1\n",
    "    if self.length == 0:\n",
    "        self.head = None\n",
    "        self.tail = None\n",
    "    return temp"
   ]
  },
  {
   "cell_type": "markdown",
   "metadata": {},
   "source": [
    "# LL - Prepend method"
   ]
  },
  {
   "cell_type": "code",
   "execution_count": 29,
   "metadata": {},
   "outputs": [],
   "source": [
    "def prepend(self, value):\n",
    "    new_node = Node(value)\n",
    "    if self.length == 0:\n",
    "        self.head = new_node\n",
    "        self.tail = new_node\n",
    "    else:\n",
    "        new_node.next = self.head\n",
    "        self.head = new_node\n",
    "    self.length += 1\n",
    "    return True"
   ]
  },
  {
   "cell_type": "markdown",
   "metadata": {},
   "source": [
    "# LL - POP FIRST method"
   ]
  },
  {
   "cell_type": "code",
   "execution_count": 30,
   "metadata": {},
   "outputs": [],
   "source": [
    "def pop_first(self):\n",
    "    if self.length == 0:\n",
    "        return None\n",
    "    temp = self.head\n",
    "    self.head = self.head.next\n",
    "    temp.next = None\n",
    "    self.length -= 1\n",
    "    if self.length == 0:\n",
    "        self.tail = None\n",
    "    return temp\n",
    "        "
   ]
  },
  {
   "cell_type": "markdown",
   "metadata": {},
   "source": [
    "# LL - GET method"
   ]
  },
  {
   "cell_type": "code",
   "execution_count": 31,
   "metadata": {},
   "outputs": [],
   "source": [
    "def get(self, index):\n",
    "    if index < 0 or index >= self.length:\n",
    "        return None\n",
    "    temp = self.head\n",
    "    for _ in range(index):\n",
    "        temp = temp.next\n",
    "    return temp"
   ]
  },
  {
   "cell_type": "markdown",
   "metadata": {},
   "source": [
    "# LL -  SET method"
   ]
  },
  {
   "cell_type": "code",
   "execution_count": 32,
   "metadata": {},
   "outputs": [],
   "source": [
    "def set_value(self, index,value):\n",
    "    temp = self.get(index)\n",
    "    if temp:\n",
    "        temp.value = value\n",
    "        return True\n",
    "    return False"
   ]
  },
  {
   "cell_type": "markdown",
   "metadata": {},
   "source": [
    "# LL - Insert method"
   ]
  },
  {
   "cell_type": "code",
   "execution_count": 33,
   "metadata": {},
   "outputs": [],
   "source": [
    "def insert(self, index, value):\n",
    "        if index < 0 or index >= self.length:\n",
    "            return False\n",
    "        if index == 0:\n",
    "            return self.prepend(value)\n",
    "        if index == self.length:\n",
    "            return self.append(value)\n",
    "        new_node = Node(value)\n",
    "        temp = self.get(index-1)\n",
    "        new_node.next = temp.next\n",
    "        temp.next = new_node\n",
    "        self.length += 1\n",
    "        return True"
   ]
  },
  {
   "cell_type": "markdown",
   "metadata": {},
   "source": [
    "# LL - Remove method"
   ]
  },
  {
   "cell_type": "code",
   "execution_count": 34,
   "metadata": {},
   "outputs": [],
   "source": [
    "def remove(self, index):\n",
    "    if index < 0 or index >= self.length:\n",
    "        return None\n",
    "    if index == 0:\n",
    "        return self.pop_first()\n",
    "    if index == self.length - 1:\n",
    "        return self.pop()\n",
    "    prev = self.get(index-1)\n",
    "    temp = prev.next\n",
    "    prev.next = temp.next\n",
    "    temp.next = None\n",
    "    self.length -= 1\n",
    "    return temp"
   ]
  },
  {
   "cell_type": "markdown",
   "metadata": {},
   "source": [
    "# LL - Reverse method"
   ]
  },
  {
   "cell_type": "code",
   "execution_count": 35,
   "metadata": {},
   "outputs": [],
   "source": [
    "def reverse(self):\n",
    "    temp = self.head\n",
    "    self.head = self.tail\n",
    "    self.tail = temp\n",
    "    after = temp.next\n",
    "    before = none\n",
    "    for _ in range(self.length):\n",
    "        after = temp.next\n",
    "        temp.next = before\n",
    "        before = temp\n",
    "        temp = after\n",
    "    "
   ]
  },
  {
   "cell_type": "markdown",
   "metadata": {},
   "source": [
    "# LL - Find_middle_node"
   ]
  },
  {
   "cell_type": "code",
   "execution_count": 36,
   "metadata": {},
   "outputs": [],
   "source": [
    "def find_middle_node(self):\n",
    "    slow = self.head\n",
    "    fast = self.head\n",
    "    while fast is not None and fast.next is not None:\n",
    "        slow = slow.next\n",
    "        fast = fast.next.next\n",
    "    return slow"
   ]
  },
  {
   "cell_type": "markdown",
   "metadata": {},
   "source": [
    "# Doubly Link List"
   ]
  },
  {
   "cell_type": "markdown",
   "metadata": {},
   "source": [
    "# Doubly Link List ( constructor )"
   ]
  },
  {
   "cell_type": "code",
   "execution_count": 44,
   "metadata": {},
   "outputs": [
    {
     "name": "stdout",
     "output_type": "stream",
     "text": [
      "<__main__.Doublylinkedlist object at 0x7fdcf32d8b38>\n"
     ]
    }
   ],
   "source": [
    "class Node:\n",
    "    def __init__(self, value):\n",
    "        self.value = value\n",
    "        self.next = None\n",
    "        self.prev = None\n",
    "\n",
    "        \n",
    "class Doublylinkedlist:\n",
    "    def __init__(self, value):\n",
    "        new_node = Node(value)\n",
    "        self.head = new_node\n",
    "        self.tail = new_node\n",
    "        self.length = 1\n",
    "        \n",
    "my_doubly_linked_list = Doublylinkedlist(7)\n",
    "print(my_doubly_linked_list)"
   ]
  },
  {
   "cell_type": "markdown",
   "metadata": {},
   "source": [
    "# Doubly Link List - Append Method"
   ]
  },
  {
   "cell_type": "code",
   "execution_count": 45,
   "metadata": {},
   "outputs": [],
   "source": [
    "def append(self, value):\n",
    "    new_node = Node(value)\n",
    "    if self.head is None:\n",
    "        self.head = new_node\n",
    "        self.tail = new_node\n",
    "    else:\n",
    "        self.tail.next = new_node\n",
    "        new_node.prev = self.tail\n",
    "        self.tail = new_node\n",
    "    self.length =+1\n",
    "    return True "
   ]
  },
  {
   "cell_type": "markdown",
   "metadata": {},
   "source": [
    "# Doubly Link List - Pop Method"
   ]
  },
  {
   "cell_type": "code",
   "execution_count": 46,
   "metadata": {},
   "outputs": [],
   "source": [
    "def pop(self):\n",
    "    if self.length == 0:\n",
    "        return None\n",
    "    temp = self.tail\n",
    "    if self.length == 1:\n",
    "        self.head = None\n",
    "        self.tail = None \n",
    "    else:       \n",
    "        self.tail = self.tail.prev\n",
    "        self.tail.next = None\n",
    "        temp.prev = None\n",
    "    self.length -= 1\n",
    "    return temp"
   ]
  },
  {
   "cell_type": "markdown",
   "metadata": {},
   "source": [
    "# Doubly Link List - Prepend Method"
   ]
  },
  {
   "cell_type": "code",
   "execution_count": 47,
   "metadata": {},
   "outputs": [],
   "source": [
    "def prepend(self, value):\n",
    "    new_node = Node(value)\n",
    "    if self.length == 0:\n",
    "        self.head = new_node\n",
    "        self.tail = new_node\n",
    "    else:\n",
    "        new_node.next = self.head\n",
    "        self.head.prev = new_node\n",
    "        self.head = new_node\n",
    "    self.length += 1\n",
    "    return True\n",
    "    "
   ]
  },
  {
   "cell_type": "markdown",
   "metadata": {},
   "source": [
    "# Doubly Link List - POP FIRST method"
   ]
  },
  {
   "cell_type": "code",
   "execution_count": 49,
   "metadata": {},
   "outputs": [],
   "source": [
    "def pop_first(self):\n",
    "    if self.length == 0:\n",
    "        return None\n",
    "    temp = self.head\n",
    "    if self.length == 1:\n",
    "        self.head = None\n",
    "        self.tail = None\n",
    "    else:\n",
    "        self.head = self.head.next\n",
    "        self.head.prev = None\n",
    "        temp.next = none\n",
    "    self.length -= 1\n",
    "    return temp\n",
    "    \n",
    "    "
   ]
  },
  {
   "cell_type": "markdown",
   "metadata": {},
   "source": [
    "# Doubly Link List - GET method"
   ]
  },
  {
   "cell_type": "code",
   "execution_count": 51,
   "metadata": {},
   "outputs": [],
   "source": [
    "def get(self, index):\n",
    "    if index<0 or index>= self.length:\n",
    "        return None\n",
    "    temp = self.head\n",
    "    if index < self.length/2:\n",
    "        for _ in range(index):\n",
    "            temp = temp.next\n",
    "    else:\n",
    "        temp = self.tail\n",
    "        for _ in range(self.length - 1, index, -1):\n",
    "            temp = temp.prev\n",
    "    return temp"
   ]
  },
  {
   "cell_type": "markdown",
   "metadata": {},
   "source": [
    "# Doubly Link List - SET method"
   ]
  },
  {
   "cell_type": "code",
   "execution_count": 52,
   "metadata": {},
   "outputs": [],
   "source": [
    "def set_value(self, index, value):\n",
    "    temp = self.get(index)\n",
    "    if temp:\n",
    "        temp.value = value\n",
    "        return True\n",
    "    return False"
   ]
  },
  {
   "cell_type": "markdown",
   "metadata": {},
   "source": [
    "# Doubly Link List - INSERT method"
   ]
  },
  {
   "cell_type": "code",
   "execution_count": 56,
   "metadata": {},
   "outputs": [],
   "source": [
    "def insert(self, index, value):\n",
    "    if index<0 or index>= self.length:\n",
    "        return False\n",
    "    if index == 0:\n",
    "        return self.prepend(value)\n",
    "    if index == self.length:\n",
    "        return self.append(value)\n",
    "    new_node = Node(value)\n",
    "    before = self.get(index-1)\n",
    "    after = before.next\n",
    "    \n",
    "    new_node.prev = before\n",
    "    new_node.next = after\n",
    "    before.next = new_node\n",
    "    after.prev = new_node\n",
    "    \n",
    "    self.length += 1\n",
    "    return True"
   ]
  },
  {
   "cell_type": "markdown",
   "metadata": {},
   "source": [
    "# Doubly Link List - REMOVE method"
   ]
  },
  {
   "cell_type": "code",
   "execution_count": null,
   "metadata": {},
   "outputs": [],
   "source": [
    "def remove(self, index):\n",
    "    if index < 0 or index >= self.length:\n",
    "        return False\n",
    "    if self.length == 0:\n",
    "        self.head = None\n",
    "        self.tail = None\n",
    "    else:\n",
    "        \n",
    "    "
   ]
  }
 ],
 "metadata": {
  "kernelspec": {
   "display_name": "Python 3 (ipykernel)",
   "language": "python",
   "name": "python3"
  },
  "language_info": {
   "codemirror_mode": {
    "name": "ipython",
    "version": 3
   },
   "file_extension": ".py",
   "mimetype": "text/x-python",
   "name": "python",
   "nbconvert_exporter": "python",
   "pygments_lexer": "ipython3",
   "version": "3.7.0"
  }
 },
 "nbformat": 4,
 "nbformat_minor": 2
}
